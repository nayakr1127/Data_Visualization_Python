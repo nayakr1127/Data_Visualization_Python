{
  "nbformat": 4,
  "nbformat_minor": 0,
  "metadata": {
    "kernelspec": {
      "display_name": "Python 3",
      "language": "python",
      "name": "python3"
    },
    "language_info": {
      "codemirror_mode": {
        "name": "ipython",
        "version": 3
      },
      "file_extension": ".py",
      "mimetype": "text/x-python",
      "name": "python",
      "nbconvert_exporter": "python",
      "pygments_lexer": "ipython3",
      "version": "3.6.8"
    },
    "colab": {
      "name": "2. Interactive Univariate Analysis.ipynb",
      "provenance": [],
      "collapsed_sections": [],
      "include_colab_link": true
    },
    "widgets": {
      "application/vnd.jupyter.widget-state+json": {
        "5d2ef386138d452ab4dbfdd362b5dddd": {
          "model_module": "@jupyter-widgets/controls",
          "model_name": "VBoxModel",
          "state": {
            "_view_name": "VBoxView",
            "_dom_classes": [
              "widget-interact"
            ],
            "_model_name": "VBoxModel",
            "_view_module": "@jupyter-widgets/controls",
            "_model_module_version": "1.5.0",
            "_view_count": null,
            "_view_module_version": "1.5.0",
            "box_style": "",
            "layout": "IPY_MODEL_b8720da0784b40f992e462b65e6e113c",
            "_model_module": "@jupyter-widgets/controls",
            "children": [
              "IPY_MODEL_83cc33ca2a4548509318757aa45b5008",
              "IPY_MODEL_86b8e90bfd2a4f22b397edfd266ef42b",
              "IPY_MODEL_e0a3a8b2d57046359bb2af1b3bef7220"
            ]
          }
        },
        "b8720da0784b40f992e462b65e6e113c": {
          "model_module": "@jupyter-widgets/base",
          "model_name": "LayoutModel",
          "state": {
            "_view_name": "LayoutView",
            "grid_template_rows": null,
            "right": null,
            "justify_content": null,
            "_view_module": "@jupyter-widgets/base",
            "overflow": null,
            "_model_module_version": "1.2.0",
            "_view_count": null,
            "flex_flow": null,
            "width": null,
            "min_width": null,
            "border": null,
            "align_items": null,
            "bottom": null,
            "_model_module": "@jupyter-widgets/base",
            "top": null,
            "grid_column": null,
            "overflow_y": null,
            "overflow_x": null,
            "grid_auto_flow": null,
            "grid_area": null,
            "grid_template_columns": null,
            "flex": null,
            "_model_name": "LayoutModel",
            "justify_items": null,
            "grid_row": null,
            "max_height": null,
            "align_content": null,
            "visibility": null,
            "align_self": null,
            "height": null,
            "min_height": null,
            "padding": null,
            "grid_auto_rows": null,
            "grid_gap": null,
            "max_width": null,
            "order": null,
            "_view_module_version": "1.2.0",
            "grid_template_areas": null,
            "object_position": null,
            "object_fit": null,
            "grid_auto_columns": null,
            "margin": null,
            "display": null,
            "left": null
          }
        },
        "83cc33ca2a4548509318757aa45b5008": {
          "model_module": "@jupyter-widgets/controls",
          "model_name": "DropdownModel",
          "state": {
            "_options_labels": [
              "year",
              "lifeExp",
              "pop",
              "gdpPercap",
              "iso_num"
            ],
            "_view_name": "DropdownView",
            "style": "IPY_MODEL_5d4d5760a3314ae28e4bc2bd5d619d48",
            "_dom_classes": [],
            "description": "x",
            "_model_name": "DropdownModel",
            "index": 4,
            "_view_module": "@jupyter-widgets/controls",
            "_model_module_version": "1.5.0",
            "_view_count": null,
            "disabled": false,
            "_view_module_version": "1.5.0",
            "description_tooltip": null,
            "_model_module": "@jupyter-widgets/controls",
            "layout": "IPY_MODEL_b3d19d8a41c74263b321c5d9c1612a2c"
          }
        },
        "86b8e90bfd2a4f22b397edfd266ef42b": {
          "model_module": "@jupyter-widgets/controls",
          "model_name": "ButtonModel",
          "state": {
            "_view_name": "ButtonView",
            "style": "IPY_MODEL_ec61fb22cd77420a85929e973f8816f6",
            "_dom_classes": [],
            "description": "Run Interact",
            "_model_name": "ButtonModel",
            "button_style": "",
            "_view_module": "@jupyter-widgets/controls",
            "_model_module_version": "1.5.0",
            "tooltip": "",
            "_view_count": null,
            "disabled": false,
            "_view_module_version": "1.5.0",
            "layout": "IPY_MODEL_becd24384493437b847b144531cce289",
            "_model_module": "@jupyter-widgets/controls",
            "icon": ""
          }
        },
        "e0a3a8b2d57046359bb2af1b3bef7220": {
          "model_module": "@jupyter-widgets/output",
          "model_name": "OutputModel",
          "state": {
            "_view_name": "OutputView",
            "msg_id": "",
            "_dom_classes": [],
            "_model_name": "OutputModel",
            "outputs": [
              {
                "output_type": "stream",
                "metadata": {
                  "tags": []
                },
                "text": "/usr/local/lib/python3.7/dist-packages/seaborn/distributions.py:2557: FutureWarning:\n\n`distplot` is a deprecated function and will be removed in a future version. Please adapt your code to use either `displot` (a figure-level function with similar flexibility) or `histplot` (an axes-level function for histograms).\n\n",
                "stream": "stderr"
              },
              {
                "output_type": "display_data",
                "metadata": {
                  "tags": [],
                  "needs_background": "light"
                },
                "image/png": "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\n",
                "text/plain": "<Figure size 432x288 with 1 Axes>"
              }
            ],
            "_view_module": "@jupyter-widgets/output",
            "_model_module_version": "1.0.0",
            "_view_count": null,
            "_view_module_version": "1.0.0",
            "layout": "IPY_MODEL_e7408a5c1d264df8885bccc6e790b6c0",
            "_model_module": "@jupyter-widgets/output"
          }
        },
        "5d4d5760a3314ae28e4bc2bd5d619d48": {
          "model_module": "@jupyter-widgets/controls",
          "model_name": "DescriptionStyleModel",
          "state": {
            "_view_name": "StyleView",
            "_model_name": "DescriptionStyleModel",
            "description_width": "",
            "_view_module": "@jupyter-widgets/base",
            "_model_module_version": "1.5.0",
            "_view_count": null,
            "_view_module_version": "1.2.0",
            "_model_module": "@jupyter-widgets/controls"
          }
        },
        "b3d19d8a41c74263b321c5d9c1612a2c": {
          "model_module": "@jupyter-widgets/base",
          "model_name": "LayoutModel",
          "state": {
            "_view_name": "LayoutView",
            "grid_template_rows": null,
            "right": null,
            "justify_content": null,
            "_view_module": "@jupyter-widgets/base",
            "overflow": null,
            "_model_module_version": "1.2.0",
            "_view_count": null,
            "flex_flow": null,
            "width": null,
            "min_width": null,
            "border": null,
            "align_items": null,
            "bottom": null,
            "_model_module": "@jupyter-widgets/base",
            "top": null,
            "grid_column": null,
            "overflow_y": null,
            "overflow_x": null,
            "grid_auto_flow": null,
            "grid_area": null,
            "grid_template_columns": null,
            "flex": null,
            "_model_name": "LayoutModel",
            "justify_items": null,
            "grid_row": null,
            "max_height": null,
            "align_content": null,
            "visibility": null,
            "align_self": null,
            "height": null,
            "min_height": null,
            "padding": null,
            "grid_auto_rows": null,
            "grid_gap": null,
            "max_width": null,
            "order": null,
            "_view_module_version": "1.2.0",
            "grid_template_areas": null,
            "object_position": null,
            "object_fit": null,
            "grid_auto_columns": null,
            "margin": null,
            "display": null,
            "left": null
          }
        },
        "ec61fb22cd77420a85929e973f8816f6": {
          "model_module": "@jupyter-widgets/controls",
          "model_name": "ButtonStyleModel",
          "state": {
            "_view_name": "StyleView",
            "_model_name": "ButtonStyleModel",
            "_view_module": "@jupyter-widgets/base",
            "_model_module_version": "1.5.0",
            "_view_count": null,
            "button_color": null,
            "font_weight": "",
            "_view_module_version": "1.2.0",
            "_model_module": "@jupyter-widgets/controls"
          }
        },
        "becd24384493437b847b144531cce289": {
          "model_module": "@jupyter-widgets/base",
          "model_name": "LayoutModel",
          "state": {
            "_view_name": "LayoutView",
            "grid_template_rows": null,
            "right": null,
            "justify_content": null,
            "_view_module": "@jupyter-widgets/base",
            "overflow": null,
            "_model_module_version": "1.2.0",
            "_view_count": null,
            "flex_flow": null,
            "width": null,
            "min_width": null,
            "border": null,
            "align_items": null,
            "bottom": null,
            "_model_module": "@jupyter-widgets/base",
            "top": null,
            "grid_column": null,
            "overflow_y": null,
            "overflow_x": null,
            "grid_auto_flow": null,
            "grid_area": null,
            "grid_template_columns": null,
            "flex": null,
            "_model_name": "LayoutModel",
            "justify_items": null,
            "grid_row": null,
            "max_height": null,
            "align_content": null,
            "visibility": null,
            "align_self": null,
            "height": null,
            "min_height": null,
            "padding": null,
            "grid_auto_rows": null,
            "grid_gap": null,
            "max_width": null,
            "order": null,
            "_view_module_version": "1.2.0",
            "grid_template_areas": null,
            "object_position": null,
            "object_fit": null,
            "grid_auto_columns": null,
            "margin": null,
            "display": null,
            "left": null
          }
        },
        "e7408a5c1d264df8885bccc6e790b6c0": {
          "model_module": "@jupyter-widgets/base",
          "model_name": "LayoutModel",
          "state": {
            "_view_name": "LayoutView",
            "grid_template_rows": null,
            "right": null,
            "justify_content": null,
            "_view_module": "@jupyter-widgets/base",
            "overflow": null,
            "_model_module_version": "1.2.0",
            "_view_count": null,
            "flex_flow": null,
            "width": null,
            "min_width": null,
            "border": null,
            "align_items": null,
            "bottom": null,
            "_model_module": "@jupyter-widgets/base",
            "top": null,
            "grid_column": null,
            "overflow_y": null,
            "overflow_x": null,
            "grid_auto_flow": null,
            "grid_area": null,
            "grid_template_columns": null,
            "flex": null,
            "_model_name": "LayoutModel",
            "justify_items": null,
            "grid_row": null,
            "max_height": null,
            "align_content": null,
            "visibility": null,
            "align_self": null,
            "height": null,
            "min_height": null,
            "padding": null,
            "grid_auto_rows": null,
            "grid_gap": null,
            "max_width": null,
            "order": null,
            "_view_module_version": "1.2.0",
            "grid_template_areas": null,
            "object_position": null,
            "object_fit": null,
            "grid_auto_columns": null,
            "margin": null,
            "display": null,
            "left": null
          }
        },
        "5187a4ef9ef849918e8a6a0bf5983ca7": {
          "model_module": "@jupyter-widgets/controls",
          "model_name": "VBoxModel",
          "state": {
            "_view_name": "VBoxView",
            "_dom_classes": [
              "widget-interact"
            ],
            "_model_name": "VBoxModel",
            "_view_module": "@jupyter-widgets/controls",
            "_model_module_version": "1.5.0",
            "_view_count": null,
            "_view_module_version": "1.5.0",
            "box_style": "",
            "layout": "IPY_MODEL_4a27bb2b10ec442fbd7698d68ec1c3af",
            "_model_module": "@jupyter-widgets/controls",
            "children": [
              "IPY_MODEL_0f2be4a2cbd0475e9c030374370d9776",
              "IPY_MODEL_417bf651a2df47f2bb4bf698b79453a3",
              "IPY_MODEL_8f61ff06e6574f6eba67dd480a7d4397"
            ]
          }
        },
        "4a27bb2b10ec442fbd7698d68ec1c3af": {
          "model_module": "@jupyter-widgets/base",
          "model_name": "LayoutModel",
          "state": {
            "_view_name": "LayoutView",
            "grid_template_rows": null,
            "right": null,
            "justify_content": null,
            "_view_module": "@jupyter-widgets/base",
            "overflow": null,
            "_model_module_version": "1.2.0",
            "_view_count": null,
            "flex_flow": null,
            "width": null,
            "min_width": null,
            "border": null,
            "align_items": null,
            "bottom": null,
            "_model_module": "@jupyter-widgets/base",
            "top": null,
            "grid_column": null,
            "overflow_y": null,
            "overflow_x": null,
            "grid_auto_flow": null,
            "grid_area": null,
            "grid_template_columns": null,
            "flex": null,
            "_model_name": "LayoutModel",
            "justify_items": null,
            "grid_row": null,
            "max_height": null,
            "align_content": null,
            "visibility": null,
            "align_self": null,
            "height": null,
            "min_height": null,
            "padding": null,
            "grid_auto_rows": null,
            "grid_gap": null,
            "max_width": null,
            "order": null,
            "_view_module_version": "1.2.0",
            "grid_template_areas": null,
            "object_position": null,
            "object_fit": null,
            "grid_auto_columns": null,
            "margin": null,
            "display": null,
            "left": null
          }
        },
        "0f2be4a2cbd0475e9c030374370d9776": {
          "model_module": "@jupyter-widgets/controls",
          "model_name": "DropdownModel",
          "state": {
            "_options_labels": [
              "continent",
              "iso_alpha"
            ],
            "_view_name": "DropdownView",
            "style": "IPY_MODEL_56966025cbf04e42bbd1d79fbb3bd24f",
            "_dom_classes": [],
            "description": "x",
            "_model_name": "DropdownModel",
            "index": 0,
            "_view_module": "@jupyter-widgets/controls",
            "_model_module_version": "1.5.0",
            "_view_count": null,
            "disabled": false,
            "_view_module_version": "1.5.0",
            "description_tooltip": null,
            "_model_module": "@jupyter-widgets/controls",
            "layout": "IPY_MODEL_b869a45cae724e609b3e44b290ba5c16"
          }
        },
        "417bf651a2df47f2bb4bf698b79453a3": {
          "model_module": "@jupyter-widgets/controls",
          "model_name": "ButtonModel",
          "state": {
            "_view_name": "ButtonView",
            "style": "IPY_MODEL_756efa09165d494785728cae9382728a",
            "_dom_classes": [],
            "description": "Run Interact",
            "_model_name": "ButtonModel",
            "button_style": "",
            "_view_module": "@jupyter-widgets/controls",
            "_model_module_version": "1.5.0",
            "tooltip": "",
            "_view_count": null,
            "disabled": false,
            "_view_module_version": "1.5.0",
            "layout": "IPY_MODEL_c97e445f144f43a0b3b73805574a7435",
            "_model_module": "@jupyter-widgets/controls",
            "icon": ""
          }
        },
        "8f61ff06e6574f6eba67dd480a7d4397": {
          "model_module": "@jupyter-widgets/output",
          "model_name": "OutputModel",
          "state": {
            "_view_name": "OutputView",
            "msg_id": "",
            "_dom_classes": [],
            "_model_name": "OutputModel",
            "outputs": [
              {
                "output_type": "stream",
                "metadata": {
                  "tags": []
                },
                "text": "/usr/local/lib/python3.7/dist-packages/seaborn/_decorators.py:43: FutureWarning:\n\nPass the following variable as a keyword arg: x. From version 0.12, the only valid positional argument will be `data`, and passing other arguments without an explicit keyword will result in an error or misinterpretation.\n\n",
                "stream": "stderr"
              },
              {
                "output_type": "display_data",
                "metadata": {
                  "tags": [],
                  "needs_background": "light"
                },
                "image/png": "iVBORw0KGgoAAAANSUhEUgAAAYUAAAEGCAYAAACKB4k+AAAABHNCSVQICAgIfAhkiAAAAAlwSFlzAAALEgAACxIB0t1+/AAAADh0RVh0U29mdHdhcmUAbWF0cGxvdGxpYiB2ZXJzaW9uMy4yLjIsIGh0dHA6Ly9tYXRwbG90bGliLm9yZy+WH4yJAAAWoElEQVR4nO3dfbRddX3n8fcHgooPEB5iBkkwjEYZxgpihgFRi2BbsVbQIpVaiZRp7CxEq44ztNOZakfXYK1S0JZpRpTAsipilUgZlRVEWy1oEIg86BApSrJ4iIDUh6IDfueP/bs7h8tNcgPZ99yQ92uts+7ev/3b53z3zs79nP14U1VIkgSw07gLkCTNHoaCJKlnKEiSeoaCJKlnKEiSenPGXcCjsffee9eiRYvGXYYkbVeuvvrqH1TVvKmmbdehsGjRIlavXj3uMiRpu5Lke5ua5uEjSVLPUJAk9QwFSVLPUJAk9QwFSVLPUJAk9QwFSVLPUJAk9QwFSVJvu76jWdpaR3zwiHGXsM199bSvjrsEPYa4pyBJ6hkKkqSeoSBJ6hkKkqTeoKGQZG6Si5J8O8lNSQ5PsmeSy5Lc3H7u0fomydlJ1iZZk+SQIWuTJD3c0HsKZwGfr6oDgIOAm4DTgVVVtRhY1cYBjgEWt9cy4JyBa5MkTTJYKCTZHXgxcC5AVf28qn4IHAusaN1WAMe14WOB86tzJTA3yT5D1SdJergh9xT2BzYAH01yTZIPJ3kSML+qbm997gDmt+F9gdtG5l/X2h4iybIkq5Os3rBhw4DlS9KOZ8hQmAMcApxTVc8DfsLGQ0UAVFUBtTVvWlXLq2pJVS2ZN2/KPzEqSXqEhgyFdcC6qrqqjV9EFxJ3ThwWaj/vatPXAwtH5l/Q2iRJM2SwUKiqO4Dbkjy7NR0N3AisBJa2tqXAxW14JXBSuwrpMOC+kcNMkqQZMPSzj04DPpbkccAtwMl0QXRhklOA7wEntL6XAi8H1gI/bX0lSTNo0FCoqmuBJVNMOnqKvgWcOmQ9kqTN845mSVLPUJAk9QwFSVLPUJAk9QwFSVLPUJAk9QwFSVLPUJAk9QwFSVLPUJAk9QwFSVLPUJAk9QwFSVLPUJAk9QwFSVLPUJAk9QwFSVLPUJAk9QwFSVLPUJAk9QwFSVLPUJAk9QwFSVLPUJAk9QYNhSS3JvlWkmuTrG5teya5LMnN7ecerT1Jzk6yNsmaJIcMWZsk6eFmYk/hJVV1cFUtaeOnA6uqajGwqo0DHAMsbq9lwDkzUJskacQ4Dh8dC6xowyuA40baz6/OlcDcJPuMoT5J2mENHQoFfDHJ1UmWtbb5VXV7G74DmN+G9wVuG5l3XWt7iCTLkqxOsnrDhg1D1S1JO6Q5A7//C6tqfZKnApcl+fboxKqqJLU1b1hVy4HlAEuWLNmqeSVJmzfonkJVrW8/7wI+AxwK3DlxWKj9vKt1Xw8sHJl9QWuTJM2QwUIhyZOSPGViGPhV4HpgJbC0dVsKXNyGVwIntauQDgPuGznMJEmaAUMePpoPfCbJxOf8TVV9Psk3gAuTnAJ8Dzih9b8UeDmwFvgpcPKAtUmSpjBYKFTVLcBBU7TfDRw9RXsBpw5VjyRpy7yjWZLUMxQkST1DQZLUMxQkST1DQZLUMxQkST1DQZLUMxQkST1DQZLUMxQkST1DQZLUMxQkST1DQZLUMxQkST1DQZLUMxQkST1DQZLUMxQkST1DQZLUMxQkST1DQZLUMxQkST1DQZLUMxQkSb3BQyHJzkmuSXJJG98/yVVJ1ib5ZJLHtfbHt/G1bfqioWuTJD3UTOwpvAW4aWT8vcCZVfVM4F7glNZ+CnBvaz+z9ZMkzaBBQyHJAuDXgQ+38QBHARe1LiuA49rwsW2cNv3o1l+SNEOG3lP4C+A/A79o43sBP6yqB9r4OmDfNrwvcBtAm35f6/8QSZYlWZ1k9YYNG4asXZJ2OHOGeuMkrwDuqqqrkxy5rd63qpYDywGWLFlSm+r3/Hecv60+cta4+n0njbsESY9xg4UCcATwyiQvB54A7AacBcxNMqftDSwA1rf+64GFwLokc4DdgbsHrE+SNMlgh4+q6g+rakFVLQJeC1xeVa8DvgQc37otBS5uwyvbOG365VW1yT0BSdK2N477FP4L8LYka+nOGZzb2s8F9mrtbwNOH0NtkrRDG/LwUa+qrgCuaMO3AIdO0ed+4DUzUY8kaWre0SxJ6hkKkqSeoSBJ6hkKkqSeoSBJ6hkKkqSeoSBJ6k3rPoUkq6rq6C21aXb6/p/+0rhL2Ob2++/fGncJ0mPSZkMhyROAJwJ7J9kDmHiU9W5sfLqpJOkxYkt7Cm8E/gB4GnA1G0Phn4EPDViXJGkMNhsKVXUWcFaS06rqgzNUkyRpTKZ1TqGqPpjkBcCi0Xmq6rH3RwskaQc23RPNFwDPAK4FHmzNBRgKkvQYMt2npC4BDvTvG0jSY9t071O4HvhXQxYiSRq/6e4p7A3cmOTrwM8mGqvqlYNUJUkai+mGwjuHLEKSNDtM9+qjLw9diCRp/KZ79dGP6K42AngcsAvwk6rabajCJEkzb7p7Ck+ZGE4S4FjgsKGKkiSNx1Y/JbU6nwV+bYB6JEljNN3DR68eGd2J7r6F+wepSJI0NtO9+ug3RoYfAG6lO4QkSXoMme45hZOHLkSSNH7TOqeQZEGSzyS5q70+nWTBFuZ5QpKvJ7kuyQ1J3tXa909yVZK1ST6Z5HGt/fFtfG2bvujRLpwkaetM90TzR4GVdH9X4WnA51rb5vwMOKqqDgIOBl6W5DDgvcCZVfVM4F7glNb/FODe1n5m6ydJmkHTDYV5VfXRqnqgvc4D5m1uhnaV0o/b6C7tVcBRwEWtfQVwXBs+to3Tph/dLn+VJM2Q6Z5ovjvJ7wAfb+MnAndvaaYkO9P9xbZnAn8JfBf4YVU90LqsY+Of9dwXuA2gqh5Ich+wF/CDSe+5DFgGsN9++02zfEmTffnFvzzuEra5X/6KD194tKa7p/C7wAnAHcDtwPHAG7Y0U1U9WFUHAwuAQ4EDHlmZD3nP5VW1pKqWzJu32Z0VSdJWmm4o/CmwtKrmVdVT6ULiXdP9kKr6IfAl4HBgbpKJPZQFwPo2vB5YCNCm78409kYkSdvOdEPhuVV178RIVd0DPG9zMySZl2RuG94V+BXgJrpwOL51Wwpc3IZXtnHa9Mv9oz6SNLOme05hpyR7TARDkj2nMe8+wIp2XmEn4MKquiTJjcAnkrwbuAY4t/U/F7ggyVrgHuC1W7kskqRHabqh8H7gH5N8qo2/BnjP5maoqjVMsTdRVbfQnV+Y3H5/e19J0phM947m85OsprucFODVVXXjcGVJksZhunsKtBAwCCTpMWyrH50tSXrsMhQkST1DQZLUMxQkST1DQZLUMxQkST1DQZLUMxQkST1DQZLUMxQkST1DQZLUMxQkST1DQZLUMxQkST1DQZLUMxQkST1DQZLUMxQkST1DQZLUMxQkST1DQZLUMxQkSb3BQiHJwiRfSnJjkhuSvKW175nksiQ3t597tPYkOTvJ2iRrkhwyVG2SpKkNuafwAPD2qjoQOAw4NcmBwOnAqqpaDKxq4wDHAIvbaxlwzoC1SZKmMFgoVNXtVfXNNvwj4CZgX+BYYEXrtgI4rg0fC5xfnSuBuUn2Gao+SdLDzcg5hSSLgOcBVwHzq+r2NukOYH4b3he4bWS2da1t8nstS7I6yeoNGzYMVrMk7YgGD4UkTwY+DfxBVf3z6LSqKqC25v2qanlVLamqJfPmzduGlUqSBg2FJLvQBcLHqupvW/OdE4eF2s+7Wvt6YOHI7AtamyRphgx59VGAc4GbquoDI5NWAkvb8FLg4pH2k9pVSIcB940cZpIkzYA5A773EcDrgW8luba1/RFwBnBhklOA7wEntGmXAi8H1gI/BU4esDZJ0hQGC4Wq+gcgm5h89BT9Czh1qHokSVvmHc2SpJ6hIEnqGQqSpJ6hIEnqGQqSpJ6hIEnqGQqSpJ6hIEnqGQqSpJ6hIEnqGQqSpJ6hIEnqGQqSpJ6hIEnqGQqSpJ6hIEnqGQqSpJ6hIEnqGQqSpJ6hIEnqGQqSpJ6hIEnqGQqSpJ6hIEnqDRYKST6S5K4k14+07ZnksiQ3t597tPYkOTvJ2iRrkhwyVF2SpE0bck/hPOBlk9pOB1ZV1WJgVRsHOAZY3F7LgHMGrEuStAmDhUJVfQW4Z1LzscCKNrwCOG6k/fzqXAnMTbLPULVJkqY20+cU5lfV7W34DmB+G94XuG2k37rWJkmaQWM70VxVBdTWzpdkWZLVSVZv2LBhgMokacc106Fw58Rhofbzrta+Hlg40m9Ba3uYqlpeVUuqasm8efMGLVaSdjQzHQorgaVteClw8Uj7Se0qpMOA+0YOM0mSZsicod44yceBI4G9k6wD/gQ4A7gwySnA94ATWvdLgZcDa4GfAicPVZckadMGC4WqOnETk46eom8Bpw5ViyRperyjWZLUMxQkST1DQZLUMxQkST1DQZLUMxQkST1DQZLUMxQkST1DQZLUMxQkST1DQZLUMxQkST1DQZLUMxQkST1DQZLUMxQkST1DQZLUMxQkST1DQZLUMxQkSb054y5AksbtQ2//3LhL2Obe9P7feETzuacgSeoZCpKknqEgSeoZCpKk3qwKhSQvS/KdJGuTnD7ueiRpRzNrQiHJzsBfAscABwInJjlwvFVJ0o5l1oQCcCiwtqpuqaqfA58Ajh1zTZK0Q0lVjbsGAJIcD7ysqv5DG3898O+r6k2T+i0DlrXRZwPfmdFCp7Y38INxFzFLuC46roeNXBcbzZZ18fSqmjfVhO3u5rWqWg4sH3cdo5Ksrqol465jNnBddFwPG7kuNtoe1sVsOny0Hlg4Mr6gtUmSZshsCoVvAIuT7J/kccBrgZVjrkmSdiiz5vBRVT2Q5E3AF4CdgY9U1Q1jLmu6ZtXhrDFzXXRcDxu5Ljaa9eti1pxoliSN32w6fCRJGjNDQZLUMxS2IMlxSSrJAVvod2mSuTNV1xCSPJjk2pGXjxppJm8HSeYluSrJNUleNEX/D2+Pd+RPd3t/FO+/JMnZQ7z3UJIsSHJxkpuTfDfJWe1imKE/92lJLhr6cx72uZ5T2LwknwSeBlxeVX8y7nqGlOTHVfXkRzjvnKp6YFvXNFtM3g6SvBZ46cTNlpP67lxVD854kdvAkNv79riNJAlwFXBOVX20PY5nOXBPVb1jvNUNpKp8beIFPJnuXolnAd9pbfsAXwGuBa4HXtTabwX2bsOfBa4GbgCWjXs5tmJ5f7yJ9tFlWwJc0YbfCVwAfBX4OLAIuBxYA6wC9mv9zgP+F7Aa+L/AK1r7zsD76C5HXgO8cdzrYDrbAXAw8H1gQ9sOdgV+DLwfuA54IXAFsKTN/zLgm23aqtZ2KPCPwDXA14Bnz7blbG1HAl8GLgZuAc4AXgd8HfgW8IzWbx7w6fZv+Q3giE1sI0cCl4x83kfb+6wBfrO1n9O2lRuAd43UdwZwY+v75zO0To4GvjKpbTfgbuBJwJ+33wNrgNPa9Oe3dXY13dWU+7T232vr5rq2rp448v/j7LYd3AIc39oXAdePDP99246+CbxgsGUe94Y4m19t4z+3DX+t/WO/HfivrW1n4Clt+FY2/uLcs/3ctW0we417Waa5vA/S/ZKbeP3WFMs2ORSuBnZt458Dlrbh3wU+24bPAz5Pd7hyMbAOeALd40r+uPV5fPtFsP+418M0t4M3AB8a6VPACSPjV7R1NQ+4bWK5RraN3YA5bfilwKdn6XIeCfyQ7svQ4+lC412tz1uAv2jDfwO8sA3vB9y0iW3kSDaGwnsn5m/je0xaRzu39fhcYC+6QJ44ujF3htbJm4Ezp2i/pi3/RSP/jnsCu7R1N6+1/Rbd5fUw8nsAeDcbQ+Q84FPt/8eBdM+Ag4eGwhOBJ7ThxcDqoZZ51tynMEudCJzVhj/RxlcCH0myC90vvWunmO/NSV7VhhfS/SPePXSx28C/VNXBWznPyqr6lzZ8OPDqNnwB8Gcj/S6sql8ANye5BTgA+FXgue25VwC7062rf3pE1Q9nqu3g+kl9HqT79jfZYXTfNP8JoKruae27AyuSLKYLlF22ddGPwFTLeQnwjaq6HSDJd4Evtj7fAl7Shl8KHNgdbQFgtyQThyJHt5FRL6W7SRWAqrq3DZ7QnnE2hy6MDqTbQ7gfODfJJa2ucTsS+Ktqh8Sq6p4kzwGeA1zW1sXOwO2t/3OSvBuYS7eX9IWR9/ps+/9xY5L5U3zWLsCHkhxMt609a4DlAWbRzWuzTZI9gaOAX0pSdP+4BbwDeDHw68B5ST5QVeePzHck3cZ+eFX9NMkVdN+Kt2cPsPGihMnL8pNpvsfkk1cFhO7b0hem6D8rbGY7mHxj5f21decR/gfwpap6VZJFdN+Ix2Yzy/l3wM9Guv5iZPwXbPwdshNwWFXdP+l9YfrbCEn2B/4T8O+q6t4k59F9Q34gyaF0h3OOB97U6h3aje3zRmvcjW5v6NYp+ge4oaoOn2LaecBxVXVdkjfQhcqE0XUcHu6twJ3AQXTr+v4p+mwTXn20accDF1TV06tqUVUtpPsG+2Lgzqr638CHgUMmzbc7cG8LhAPovilu726lO5QA8Jub6fc1Nn7zex3dMdAJr0myU5JnAP+a7lDAF4D/2Pa6SPKsJE/aloVvA5vaDhZuYb4JVwIvbr/sJn75QredTDzb6w3bsN5HalPL+bArqzbhi8BpEyPtG+2WXAacOjLPHnSH1X4C3Ne+MR/Tpj0Z2L2qLqX7BXnQNOt6tFYBT0xyUqtjZ7pzR+fRbb9vTDKnTduTbruel+Tw1rZLkn/b3uspwO1te3/dVtaxO3B725t4PV1oD8JQ2LQTgc9Mavs03cZwXZJr6I4XnjWpz+eBOUluojsxduXAdW5Lu066JPWM1v4u4Kwkq+l2XTflNODkJGvoNty3jEz7Pt3Jyf8D/H77Rvlhum9i30xyPfDXzL69101tB384nZmragPduZO/TXId8Mk26c+A/9m2o9mwzJtazhOnOf+bgSVJ1iS5Efj9aczzbmCPJNe3dfOSqrqO7nj9t+nOU3y19X0KcEnbtv4BeNs063pUqjuI/yq6LzU3010ocT/wR3Tb7/eBNa3+367ub8EcD7y3tV0LvKC93X+ju5Lpq3TLtzX+Clja3vMAtmLva2t5SaoG1w4BXFJVM37NtaSt456CJKnnnoIkqeeegiSpZyhIknqGgiSpZyhIj0KSRUl+e2R8kKeAtqeXbndPXdX2x1CQHp1FQB8KVbW6qt48wOccR/e4B2lQhoJ2aElOajdcXZfkgvbN//LWtirJfq3feUnOTvK1JLeMPK/pDOBF7Wa/tyY5sj2bhyTvTPKRJFe0ed488rm/k+Trbb6/bnfKkuTHSd7T6rkyyfwkLwBeCbyv9X/GzK4l7UgMBe2w2uMH/hg4qqoOorsD+4PAiqp6LvAxukcaT9iH7rHYr6ALA4DTgb+vqoOr6swpPuYA4NfoHpX9J+2xB/+G7m74I9oDCB9k42MPngRc2er5CvB7VfU1ugcxvqN9zne30SqQHmY23F4vjctRwKeq6gfQP+Vyc0963dKTLKfyd1X1M+BnSe4C5tM91O35wDfaA+N2Be5q/X/OxieAXg38yiNaMukRMhSk6dvSkyy3NM+DdP/nQrc3MtXzk/5fbbyjdKK/NGM8fKQd2eV0DzrbC/qnXG7uSa9T+RHdw9q2xirg+CRPnfjcJE8f4HOkrWYoaIdVVTcA7wG+3J4++QE2/6TXqawBHmwnht86zc+9ke5cxhfb51xGd75icz4BvCPJNZ5o1pB89pEkqeeegiSpZyhIknqGgiSpZyhIknqGgiSpZyhIknqGgiSp9/8BSw9CCHpHTjMAAAAASUVORK5CYII=\n",
                "text/plain": "<Figure size 432x288 with 1 Axes>"
              }
            ],
            "_view_module": "@jupyter-widgets/output",
            "_model_module_version": "1.0.0",
            "_view_count": null,
            "_view_module_version": "1.0.0",
            "layout": "IPY_MODEL_0afcf9c256d940efa93e90b6b48d55e4",
            "_model_module": "@jupyter-widgets/output"
          }
        },
        "56966025cbf04e42bbd1d79fbb3bd24f": {
          "model_module": "@jupyter-widgets/controls",
          "model_name": "DescriptionStyleModel",
          "state": {
            "_view_name": "StyleView",
            "_model_name": "DescriptionStyleModel",
            "description_width": "",
            "_view_module": "@jupyter-widgets/base",
            "_model_module_version": "1.5.0",
            "_view_count": null,
            "_view_module_version": "1.2.0",
            "_model_module": "@jupyter-widgets/controls"
          }
        },
        "b869a45cae724e609b3e44b290ba5c16": {
          "model_module": "@jupyter-widgets/base",
          "model_name": "LayoutModel",
          "state": {
            "_view_name": "LayoutView",
            "grid_template_rows": null,
            "right": null,
            "justify_content": null,
            "_view_module": "@jupyter-widgets/base",
            "overflow": null,
            "_model_module_version": "1.2.0",
            "_view_count": null,
            "flex_flow": null,
            "width": null,
            "min_width": null,
            "border": null,
            "align_items": null,
            "bottom": null,
            "_model_module": "@jupyter-widgets/base",
            "top": null,
            "grid_column": null,
            "overflow_y": null,
            "overflow_x": null,
            "grid_auto_flow": null,
            "grid_area": null,
            "grid_template_columns": null,
            "flex": null,
            "_model_name": "LayoutModel",
            "justify_items": null,
            "grid_row": null,
            "max_height": null,
            "align_content": null,
            "visibility": null,
            "align_self": null,
            "height": null,
            "min_height": null,
            "padding": null,
            "grid_auto_rows": null,
            "grid_gap": null,
            "max_width": null,
            "order": null,
            "_view_module_version": "1.2.0",
            "grid_template_areas": null,
            "object_position": null,
            "object_fit": null,
            "grid_auto_columns": null,
            "margin": null,
            "display": null,
            "left": null
          }
        },
        "756efa09165d494785728cae9382728a": {
          "model_module": "@jupyter-widgets/controls",
          "model_name": "ButtonStyleModel",
          "state": {
            "_view_name": "StyleView",
            "_model_name": "ButtonStyleModel",
            "_view_module": "@jupyter-widgets/base",
            "_model_module_version": "1.5.0",
            "_view_count": null,
            "button_color": null,
            "font_weight": "",
            "_view_module_version": "1.2.0",
            "_model_module": "@jupyter-widgets/controls"
          }
        },
        "c97e445f144f43a0b3b73805574a7435": {
          "model_module": "@jupyter-widgets/base",
          "model_name": "LayoutModel",
          "state": {
            "_view_name": "LayoutView",
            "grid_template_rows": null,
            "right": null,
            "justify_content": null,
            "_view_module": "@jupyter-widgets/base",
            "overflow": null,
            "_model_module_version": "1.2.0",
            "_view_count": null,
            "flex_flow": null,
            "width": null,
            "min_width": null,
            "border": null,
            "align_items": null,
            "bottom": null,
            "_model_module": "@jupyter-widgets/base",
            "top": null,
            "grid_column": null,
            "overflow_y": null,
            "overflow_x": null,
            "grid_auto_flow": null,
            "grid_area": null,
            "grid_template_columns": null,
            "flex": null,
            "_model_name": "LayoutModel",
            "justify_items": null,
            "grid_row": null,
            "max_height": null,
            "align_content": null,
            "visibility": null,
            "align_self": null,
            "height": null,
            "min_height": null,
            "padding": null,
            "grid_auto_rows": null,
            "grid_gap": null,
            "max_width": null,
            "order": null,
            "_view_module_version": "1.2.0",
            "grid_template_areas": null,
            "object_position": null,
            "object_fit": null,
            "grid_auto_columns": null,
            "margin": null,
            "display": null,
            "left": null
          }
        },
        "0afcf9c256d940efa93e90b6b48d55e4": {
          "model_module": "@jupyter-widgets/base",
          "model_name": "LayoutModel",
          "state": {
            "_view_name": "LayoutView",
            "grid_template_rows": null,
            "right": null,
            "justify_content": null,
            "_view_module": "@jupyter-widgets/base",
            "overflow": null,
            "_model_module_version": "1.2.0",
            "_view_count": null,
            "flex_flow": null,
            "width": null,
            "min_width": null,
            "border": null,
            "align_items": null,
            "bottom": null,
            "_model_module": "@jupyter-widgets/base",
            "top": null,
            "grid_column": null,
            "overflow_y": null,
            "overflow_x": null,
            "grid_auto_flow": null,
            "grid_area": null,
            "grid_template_columns": null,
            "flex": null,
            "_model_name": "LayoutModel",
            "justify_items": null,
            "grid_row": null,
            "max_height": null,
            "align_content": null,
            "visibility": null,
            "align_self": null,
            "height": null,
            "min_height": null,
            "padding": null,
            "grid_auto_rows": null,
            "grid_gap": null,
            "max_width": null,
            "order": null,
            "_view_module_version": "1.2.0",
            "grid_template_areas": null,
            "object_position": null,
            "object_fit": null,
            "grid_auto_columns": null,
            "margin": null,
            "display": null,
            "left": null
          }
        }
      }
    }
  },
  "cells": [
    {
      "cell_type": "markdown",
      "metadata": {
        "id": "view-in-github",
        "colab_type": "text"
      },
      "source": [
        "<a href=\"https://colab.research.google.com/github/nayakr1127/Data_Visualization_Python/blob/master/1_Interactive_Univariate_Analysis.ipynb\" target=\"_parent\"><img src=\"https://colab.research.google.com/assets/colab-badge.svg\" alt=\"Open In Colab\"/></a>"
      ]
    },
    {
      "cell_type": "code",
      "metadata": {
        "id": "Z1XbR271yGpf"
      },
      "source": [
        "from ipywidgets import interact_manual\n",
        "import plotly.express as px\n",
        "import seaborn as sns"
      ],
      "execution_count": null,
      "outputs": []
    },
    {
      "cell_type": "code",
      "metadata": {
        "colab": {
          "base_uri": "https://localhost:8080/",
          "height": 206
        },
        "id": "vnD9uQfVyGpj",
        "outputId": "b5e0b9ae-fb8e-4dba-a859-97b1206d6e1f"
      },
      "source": [
        "# reading the dataset\n",
        "data = px.data.gapminder()\n",
        "data.head()"
      ],
      "execution_count": null,
      "outputs": [
        {
          "output_type": "execute_result",
          "data": {
            "text/html": [
              "<div>\n",
              "<style scoped>\n",
              "    .dataframe tbody tr th:only-of-type {\n",
              "        vertical-align: middle;\n",
              "    }\n",
              "\n",
              "    .dataframe tbody tr th {\n",
              "        vertical-align: top;\n",
              "    }\n",
              "\n",
              "    .dataframe thead th {\n",
              "        text-align: right;\n",
              "    }\n",
              "</style>\n",
              "<table border=\"1\" class=\"dataframe\">\n",
              "  <thead>\n",
              "    <tr style=\"text-align: right;\">\n",
              "      <th></th>\n",
              "      <th>country</th>\n",
              "      <th>continent</th>\n",
              "      <th>year</th>\n",
              "      <th>lifeExp</th>\n",
              "      <th>pop</th>\n",
              "      <th>gdpPercap</th>\n",
              "      <th>iso_alpha</th>\n",
              "      <th>iso_num</th>\n",
              "    </tr>\n",
              "  </thead>\n",
              "  <tbody>\n",
              "    <tr>\n",
              "      <th>0</th>\n",
              "      <td>Afghanistan</td>\n",
              "      <td>Asia</td>\n",
              "      <td>1952</td>\n",
              "      <td>28.801</td>\n",
              "      <td>8425333</td>\n",
              "      <td>779.445314</td>\n",
              "      <td>AFG</td>\n",
              "      <td>4</td>\n",
              "    </tr>\n",
              "    <tr>\n",
              "      <th>1</th>\n",
              "      <td>Afghanistan</td>\n",
              "      <td>Asia</td>\n",
              "      <td>1957</td>\n",
              "      <td>30.332</td>\n",
              "      <td>9240934</td>\n",
              "      <td>820.853030</td>\n",
              "      <td>AFG</td>\n",
              "      <td>4</td>\n",
              "    </tr>\n",
              "    <tr>\n",
              "      <th>2</th>\n",
              "      <td>Afghanistan</td>\n",
              "      <td>Asia</td>\n",
              "      <td>1962</td>\n",
              "      <td>31.997</td>\n",
              "      <td>10267083</td>\n",
              "      <td>853.100710</td>\n",
              "      <td>AFG</td>\n",
              "      <td>4</td>\n",
              "    </tr>\n",
              "    <tr>\n",
              "      <th>3</th>\n",
              "      <td>Afghanistan</td>\n",
              "      <td>Asia</td>\n",
              "      <td>1967</td>\n",
              "      <td>34.020</td>\n",
              "      <td>11537966</td>\n",
              "      <td>836.197138</td>\n",
              "      <td>AFG</td>\n",
              "      <td>4</td>\n",
              "    </tr>\n",
              "    <tr>\n",
              "      <th>4</th>\n",
              "      <td>Afghanistan</td>\n",
              "      <td>Asia</td>\n",
              "      <td>1972</td>\n",
              "      <td>36.088</td>\n",
              "      <td>13079460</td>\n",
              "      <td>739.981106</td>\n",
              "      <td>AFG</td>\n",
              "      <td>4</td>\n",
              "    </tr>\n",
              "  </tbody>\n",
              "</table>\n",
              "</div>"
            ],
            "text/plain": [
              "       country continent  year  ...   gdpPercap  iso_alpha  iso_num\n",
              "0  Afghanistan      Asia  1952  ...  779.445314        AFG        4\n",
              "1  Afghanistan      Asia  1957  ...  820.853030        AFG        4\n",
              "2  Afghanistan      Asia  1962  ...  853.100710        AFG        4\n",
              "3  Afghanistan      Asia  1967  ...  836.197138        AFG        4\n",
              "4  Afghanistan      Asia  1972  ...  739.981106        AFG        4\n",
              "\n",
              "[5 rows x 8 columns]"
            ]
          },
          "metadata": {
            "tags": []
          },
          "execution_count": 2
        }
      ]
    },
    {
      "cell_type": "code",
      "metadata": {
        "colab": {
          "base_uri": "https://localhost:8080/",
          "height": 432,
          "referenced_widgets": [
            "5d2ef386138d452ab4dbfdd362b5dddd",
            "b8720da0784b40f992e462b65e6e113c",
            "83cc33ca2a4548509318757aa45b5008",
            "86b8e90bfd2a4f22b397edfd266ef42b",
            "e0a3a8b2d57046359bb2af1b3bef7220",
            "5d4d5760a3314ae28e4bc2bd5d619d48",
            "b3d19d8a41c74263b321c5d9c1612a2c",
            "ec61fb22cd77420a85929e973f8816f6",
            "becd24384493437b847b144531cce289",
            "e7408a5c1d264df8885bccc6e790b6c0"
          ]
        },
        "id": "vvwnIGYuyGpk",
        "outputId": "31db55fc-f9ac-4d4e-b96f-280e6c6eb45b"
      },
      "source": [
        "# For Numerical Columns\n",
        "\n",
        "@interact_manual\n",
        "def viz(x = list(data.select_dtypes('number').columns)):\n",
        "    sns.distplot(data[x],)"
      ],
      "execution_count": null,
      "outputs": [
        {
          "output_type": "display_data",
          "data": {
            "application/vnd.jupyter.widget-view+json": {
              "model_id": "5d2ef386138d452ab4dbfdd362b5dddd",
              "version_minor": 0,
              "version_major": 2
            },
            "text/plain": [
              "interactive(children=(Dropdown(description='x', options=('year', 'lifeExp', 'pop', 'gdpPercap', 'iso_num'), va…"
            ]
          },
          "metadata": {
            "tags": []
          }
        }
      ]
    },
    {
      "cell_type": "code",
      "metadata": {
        "colab": {
          "base_uri": "https://localhost:8080/",
          "height": 431,
          "referenced_widgets": [
            "5187a4ef9ef849918e8a6a0bf5983ca7",
            "4a27bb2b10ec442fbd7698d68ec1c3af",
            "0f2be4a2cbd0475e9c030374370d9776",
            "417bf651a2df47f2bb4bf698b79453a3",
            "8f61ff06e6574f6eba67dd480a7d4397",
            "56966025cbf04e42bbd1d79fbb3bd24f",
            "b869a45cae724e609b3e44b290ba5c16",
            "756efa09165d494785728cae9382728a",
            "c97e445f144f43a0b3b73805574a7435",
            "0afcf9c256d940efa93e90b6b48d55e4"
          ]
        },
        "id": "8xPEIDcCyGpl",
        "outputId": "940d7daf-44b9-4080-ad59-b598c87ba337"
      },
      "source": [
        "# For Categorical Columns\n",
        "\n",
        "@interact_manual\n",
        "def viz(x = list(data.select_dtypes('object').columns[1:])):\n",
        "    sns.countplot(data[x])"
      ],
      "execution_count": null,
      "outputs": [
        {
          "output_type": "display_data",
          "data": {
            "application/vnd.jupyter.widget-view+json": {
              "model_id": "5187a4ef9ef849918e8a6a0bf5983ca7",
              "version_minor": 0,
              "version_major": 2
            },
            "text/plain": [
              "interactive(children=(Dropdown(description='x', options=('continent', 'iso_alpha'), value='continent'), Button…"
            ]
          },
          "metadata": {
            "tags": []
          }
        }
      ]
    }
  ]
}